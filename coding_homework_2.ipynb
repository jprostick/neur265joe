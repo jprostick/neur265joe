{
  "nbformat": 4,
  "nbformat_minor": 0,
  "metadata": {
    "colab": {
      "provenance": [],
      "include_colab_link": true
    },
    "kernelspec": {
      "name": "python3",
      "display_name": "Python 3"
    },
    "language_info": {
      "name": "python"
    }
  },
  "cells": [
    {
      "cell_type": "markdown",
      "metadata": {
        "id": "view-in-github",
        "colab_type": "text"
      },
      "source": [
        "<a href=\"https://colab.research.google.com/github/jprostick/neur265joe/blob/main/coding_homework_2.ipynb\" target=\"_parent\"><img src=\"https://colab.research.google.com/assets/colab-badge.svg\" alt=\"Open In Colab\"/></a>"
      ]
    },
    {
      "cell_type": "markdown",
      "source": [
        "# Coding Homework #2\n",
        "\n",
        "**Instructions:**\n",
        "\n",
        "1. Make a *Markdown Cell* that contains the following information:\n",
        "- Your name (small header)\n",
        "- The name of this class (italicized)\n",
        "- The date (bolded)\n",
        "\n",
        "2. Make a *Code Cell* that imports <code>numpy</code> as <code>np</code>, <code>matplotlib.pyplot</code> as <code>plt</code>, <code>statistics</code> as <code>st</code>.\n",
        "\n",
        "3. Make a *Code Cell* that imports your <code>v_rest1.csv</code> and <code>v_rest2.csv</code> files as <code>numpy</code> arrays called <code>v_rest1</code> and <code>v_rest2</code> respectively. You're used to doing this with the <code>pd.read_csv</code> function for <code>pandas</code>, but can accomplish the same thing using the <code>np.loadtxt</code> function for <code>numpy</code>.\n",
        "\n",
        "4. Make a *Code Cell* that concatenates <code>v_rest1</code> and <code>v_rest2</code> into a matrix with 2 rows and 13 columns named <code>v_rest</code>.\n",
        "\n",
        "5. Make a *Code Cell* that prints the <code>size</code> of <code>v_rest</code>.\n",
        "\n",
        "6. Make a *Code Cell* that returns the first row of <code>v_rest</code>.\n",
        "\n",
        "7. Make a *Code Cell* that returns the sum of the values in the third column of <code>v_rest</code>. You can accomplish this by using <code>v_rest[].sum()</code>, with your index inside of the brackets. As an example, if I wanted to return the sum of the first row of <code>v_rest</code>, I could use <code>v_rest[0].sum()</code> to get my answer.\n",
        "\n",
        "8. Make a *Code Cell* that returns the second-to-last value in the second row of <code>v_rest</code> (use negative indexing for the column value).\n",
        "\n",
        "9. Create a *Code Cell* that makes a histogram of the values in the first row of <code>v_rest</code> (you can do this by using the <code>plt.hist()</code> function). Label your axes.\n",
        "\n",
        "10. Create a *Code Cell* that takes the mean of the values in the first row of <code>v_rest</code>, and assigns the mean to a variable called <code>v_rest_mean_1</code>. Do the same thing for the second row of <code>v_rest</code>, and assign the mean value of the second row to a variable called <code>v_rest_mean_2</code>. You can get the means by using the <code>st.mean()</code> function (remember to put what you want the mean *of* inside the parentheses of the function).\n",
        "\n",
        "11. Create a *Markdown Cell* that describes the difference in means between the two rows. Which one is bigger?\n",
        "\n",
        "12. How can we test whether the difference in means is *meaningful* (statistically significant)? When we're comparing two means, we can use a t-test (assuming the data are normally distributed). To use a t-test on our data, we will first need to import the <code>scipy</code> package. Create a new *Code Cell* that runs the following:\n",
        "\n",
        "<code>\n",
        "import scipy.stats as stats\n",
        "</code>\n",
        "\n",
        "13. Now, we can perform a t-test on the two rows of <code>v_rest</code>. To do this, create a new *Code Cell* that uses the <code>stats.ttest_ind()</code> function - for example:\n",
        "\n",
        "<code>\n",
        "stats.ttest_ind(row1, row2)\n",
        "</code>\n",
        "\n",
        "Replace <code>row1</code> and <code>row2</code> in this case with the first and second rows, respectively, of <code>v_rest</code>.\n",
        "\n",
        "14. Make a *Markdown Cell* that describes the results of your t-test. You should have <code>statistic</code> variable and a <code>pvalue</code> variable. The way to interpret your p-value is as a probability - specifically, the probability that the mean of one distribution could be found in the second distribution. Typically, results are considered to be \"statistically significant\" if the probability is lower than 5% - or 0.05. What is your p-value? Based on this p-value, do you think it is likely that the means are significantly different, or do you think it is likely that they are not?\n",
        "\n",
        "15. Make sure to add at least one line with a <code>#</code> in front of it to each *Code Cell* to describe what each cell does.\n",
        "\n",
        "16. Save a copy of this notebook to your GitHub repo with the title \"coding_homework_2.ipynb\"."
      ],
      "metadata": {
        "id": "CXEcCBSA_prs"
      }
    },
    {
      "cell_type": "markdown",
      "source": [
        "###Joe Prostick\n",
        "#*Intro to Neural Data Analysis*\n",
        "##**2/23/23**"
      ],
      "metadata": {
        "id": "4fRMZqY_5NcG"
      }
    },
    {
      "cell_type": "code",
      "source": [
        "# Import packages\n",
        "import numpy as np\n",
        "import matplotlib.pyplot as plt\n",
        "import statistics as st\n"
      ],
      "metadata": {
        "id": "R1XgP-3f5mXF"
      },
      "execution_count": 44,
      "outputs": []
    },
    {
      "cell_type": "code",
      "source": [
        "#Import data as integers, assigned to two lists\n",
        "v_rest1 = np.loadtxt(\"https://raw.githubusercontent.com/jprostick/neur265joe/main/vrest_1.csv\")\n",
        "v_rest2 = np.loadtxt(\"https://raw.githubusercontent.com/jprostick/neur265joe/main/vrest_2.csv\")"
      ],
      "metadata": {
        "id": "kdbqHVOt6McO"
      },
      "execution_count": 45,
      "outputs": []
    },
    {
      "cell_type": "code",
      "source": [
        "# Create numpy matrix of lists\n",
        "v_rest = np.array([v_rest1,v_rest2])"
      ],
      "metadata": {
        "id": "8RKO-tR16ioG"
      },
      "execution_count": 59,
      "outputs": []
    },
    {
      "cell_type": "code",
      "source": [
        "#Print number of values in matrix\n",
        "np.size(v_rest)"
      ],
      "metadata": {
        "id": "G0HYZvrI6pnJ",
        "outputId": "bf09ec2b-0d6d-4e1e-e6eb-b5b2422ae534",
        "colab": {
          "base_uri": "https://localhost:8080/"
        }
      },
      "execution_count": 39,
      "outputs": [
        {
          "output_type": "execute_result",
          "data": {
            "text/plain": [
              "26"
            ]
          },
          "metadata": {},
          "execution_count": 39
        }
      ]
    },
    {
      "cell_type": "code",
      "source": [
        "#Print values in first row of matrix\n",
        "v_rest[0]"
      ],
      "metadata": {
        "id": "zlyUeOGE7jL4",
        "outputId": "c2e808ec-3ad5-43fc-a2bc-57fcee1f3610",
        "colab": {
          "base_uri": "https://localhost:8080/"
        }
      },
      "execution_count": 18,
      "outputs": [
        {
          "output_type": "execute_result",
          "data": {
            "text/plain": [
              "array([-75.90891027, -75.53345698, -70.5961269 , -69.04860902,\n",
              "       -70.82968979, -64.05338584, -75.26500747, -77.99539778,\n",
              "       -68.38081932, -79.56984602, -68.98749771, -73.36501503,\n",
              "       -70.57924589])"
            ]
          },
          "metadata": {},
          "execution_count": 18
        }
      ]
    },
    {
      "cell_type": "code",
      "source": [
        "#Print sum of values of 3rd column\n",
        "v_rest[:,2].sum() "
      ],
      "metadata": {
        "id": "MioUUU7a8QBc",
        "outputId": "dcfb8a62-be06-4cf5-bbec-9c5f8bfb7173",
        "colab": {
          "base_uri": "https://localhost:8080/"
        }
      },
      "execution_count": 72,
      "outputs": [
        {
          "output_type": "execute_result",
          "data": {
            "text/plain": [
              "-143.41203342"
            ]
          },
          "metadata": {},
          "execution_count": 72
        }
      ]
    },
    {
      "cell_type": "code",
      "source": [
        "#Print second to last value in 2nd row\n",
        "v_rest[1,-2]"
      ],
      "metadata": {
        "id": "Pspc5yZACDco",
        "outputId": "74002ec5-8ebd-48c8-8ff3-7c5ee3694047",
        "colab": {
          "base_uri": "https://localhost:8080/"
        }
      },
      "execution_count": 63,
      "outputs": [
        {
          "output_type": "execute_result",
          "data": {
            "text/plain": [
              "-62.93618902"
            ]
          },
          "metadata": {},
          "execution_count": 63
        }
      ]
    },
    {
      "cell_type": "code",
      "source": [
        "#Create histogram for values in 1st row of matrix, named axes\n",
        "plt.hist(v_rest[0])\n",
        "plt.xlabel(\"Membrane Potential (mv)\")\n",
        "plt.ylabel(\"Frequency\")"
      ],
      "metadata": {
        "id": "TXFFHS1nDQqD",
        "outputId": "d5fde74f-1b44-45c8-94cf-baea5ae909f1",
        "colab": {
          "base_uri": "https://localhost:8080/",
          "height": 296
        }
      },
      "execution_count": 66,
      "outputs": [
        {
          "output_type": "execute_result",
          "data": {
            "text/plain": [
              "Text(0, 0.5, 'Frequency')"
            ]
          },
          "metadata": {},
          "execution_count": 66
        },
        {
          "output_type": "display_data",
          "data": {
            "text/plain": [
              "<Figure size 432x288 with 1 Axes>"
            ],
            "image/png": "[encoded data removed]"
          },
          "metadata": {
            "needs_background": "light"
          }
        }
      ]
    },
    {
      "cell_type": "code",
      "source": [
        "#Calculate & print means for each row of matrix\n",
        "v_rest_mean_1 = st.mean(v_rest[0])\n",
        "v_rest_mean_2 = st.mean(v_rest[1])\n",
        "print(v_rest_mean_1)\n",
        "print(v_rest_mean_2)"
      ],
      "metadata": {
        "id": "C2UW-vnmDrsx",
        "outputId": "719f4754-93f5-4710-abc1-c361e0f28674",
        "colab": {
          "base_uri": "https://localhost:8080/"
        }
      },
      "execution_count": 68,
      "outputs": [
        {
          "output_type": "stream",
          "name": "stdout",
          "text": [
            "-72.3163852323077\n",
            "-68.86490491076923\n"
          ]
        }
      ]
    },
    {
      "cell_type": "markdown",
      "source": [
        "Data from v_rest1 is more negative on average than data from v_rest2. More negative membrane potentials in v_rest1."
      ],
      "metadata": {
        "id": "P7N3p68LD721"
      }
    },
    {
      "cell_type": "code",
      "source": [
        "#Import spicy package\n",
        "import scipy.stats as stats "
      ],
      "metadata": {
        "id": "BhzxWJEjEsk0"
      },
      "execution_count": 69,
      "outputs": []
    },
    {
      "cell_type": "code",
      "source": [
        "#Conduct t-test between means of each row of matrix\n",
        "stats.ttest_ind(v_rest[0],v_rest[1])"
      ],
      "metadata": {
        "id": "RJBzY2UEFE0C",
        "outputId": "2192f7fe-33b7-415e-b9c3-b350d2aaafb1",
        "colab": {
          "base_uri": "https://localhost:8080/"
        }
      },
      "execution_count": 71,
      "outputs": [
        {
          "output_type": "execute_result",
          "data": {
            "text/plain": [
              "Ttest_indResult(statistic=-2.1047452435209557, pvalue=0.045968581318240866)"
            ]
          },
          "metadata": {},
          "execution_count": 71
        }
      ]
    },
    {
      "cell_type": "markdown",
      "source": [
        "P value is <.05, so it is likely the difference between means IS statistically significant."
      ],
      "metadata": {
        "id": "OTVBZdaDFhk_"
      }
    }
  ]
}