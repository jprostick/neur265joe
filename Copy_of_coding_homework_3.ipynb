{
  "nbformat": 4,
  "nbformat_minor": 0,
  "metadata": {
    "colab": {
      "provenance": [],
      "include_colab_link": true
    },
    "kernelspec": {
      "name": "python3",
      "display_name": "Python 3"
    },
    "language_info": {
      "name": "python"
    }
  },
  "cells": [
    {
      "cell_type": "markdown",
      "metadata": {
        "id": "view-in-github",
        "colab_type": "text"
      },
      "source": [
        "<a href=\"https://colab.research.google.com/github/jprostick/neur265joe/blob/main/Copy_of_coding_homework_3.ipynb\" target=\"_parent\"><img src=\"https://colab.research.google.com/assets/colab-badge.svg\" alt=\"Open In Colab\"/></a>"
      ]
    },
    {
      "cell_type": "markdown",
      "source": [
        "# Coding Homework #3\n",
        "\n",
        "**Instructions**\n",
        "\n",
        "1. Make a *Markdown Cell* that contains the following information:\n",
        "- Your name (small header)\n",
        "- The name of this class (italicized)\n",
        "- The date (bolded)\n",
        "\n",
        "2. Make a *Code Cell* that imports <code>numpy</code> as <code>np</code>, <code>matplotlib.pyplot</code> as <code>plt</code>, and <code>scipy.stats</code> as <code>stats</code>.\n",
        "\n",
        "3. Make a *Code Cell* that imports your <code>v_rest1.csv</code> and <code>v_rest2.csv</code> variables as <code>numpy</code> arrays called <code>v_rest1</code> and <code>v_rest2</code> respectively.\n",
        "\n",
        "4. Make a *Code Cell* that does the following:\n",
        "  \n",
        "  a. Finds the means of <code>v_rest1</code> and <code>v_rest2</code>.\n",
        "  \n",
        "  b. Performs a t-test to test the null hypothesis that the means of <code>v_rest1</code> and <code>v_rest2</code> come from different distributions.\n",
        "\n",
        "  c. Plots a histogram of <code>v_rest1</code> in one subplot, and a histogram of <code>v_rest2</code> in another subplot if the p-value of the t-test is > 0.05. You can make two subplots using the syntax <code>fig, ax = plt.subplots(1,1)</code>.\n",
        "\n",
        "  d. Labels the y-axis and x-axis of your histograms (recall that <code>ax.ylabel</code> and <code>ax.xlabel</code> are the methods that let you accomplish this).\n",
        "\n",
        "5. Make a *Code Cell* that defines a function called <code>vrestHist()</code>. This function should execute the code in step 4 when called. Remember to tell python that you want the function to show your plots when you call it!\n",
        "\n",
        "6. Make a *Code Cell* that calls <code>vrestHist()</code>.\n",
        "\n",
        "7. Make a *Code Cell* that does the following:\n",
        "\n",
        "    a. Loops through each column of <code>v_rest1</code> and <code>v_rest2</code> and makes a scatter plot with <code>v_rest1</code> on the x-axis and <code>v_rest2</code> on the y-axis. \n",
        "\n",
        "    b. Each iteration of your loop should plot a different point on the scatter plot. At the end of your loop, you should have only one scatter plot with number of data points equal to the length of <code>v_rest1</code> and <code>v_rest2</code>.\n",
        "\n",
        "    c. Your loop should plot a <font color = 'red'>red</font> dot if *both* values in <code>v_rest1</code> and <code>v_rest2</code> are greater than -60, a <font color = 'green'>green</font> dot if values in <code>v_rest1</code> are greater than -60, but values in <code>v_rest2</code> are less than -60, and a <font color = 'blue'>blue</font> dot if *both* values in <code>v_rest1</code> and <code>v_rest2</code> are less than -60. \n",
        "\n",
        "    d. Labels your y-axis and your x-axis (this code should be outside of your loop).\n",
        "\n",
        "8. Make a *Code Cell* that defines a function called <code>vrestScatter()</code>. This function should execute the code in step 7 when called. Remember to tell python that you want the function to show your plot when you call it!\n",
        "\n",
        "9. Save a copy of this notebook to your GitHub repo with the title \"coding_homework_3.ipynb\"."
      ],
      "metadata": {
        "id": "zbzMCJlMN3ph"
      }
    },
    {
      "cell_type": "markdown",
      "source": [
        "###Joseph Prostick\n",
        "#**Intro to Neural Data Analysis**\n",
        "#*3/3/23*"
      ],
      "metadata": {
        "id": "OFqb8htVhw-O"
      }
    },
    {
      "cell_type": "code",
      "source": [
        "#import packages\n",
        "import numpy as np\n",
        "import matplotlib as mpl\n",
        "import matplotlib.pyplot as plt\n",
        "\n",
        "import scipy.stats as stats"
      ],
      "metadata": {
        "id": "pk_yNLqBiK89"
      },
      "execution_count": null,
      "outputs": []
    },
    {
      "cell_type": "code",
      "source": [
        "#imports data\n",
        "v_rest1 = np.loadtxt(\"https://raw.githubusercontent.com/jprostick/neur265joe/main/vrest_1.csv\")\n",
        "v_rest2 = np.loadtxt(\"https://raw.githubusercontent.com/jprostick/neur265joe/main/vrest_2.csv\")"
      ],
      "metadata": {
        "id": "w7HP_xq1io2o"
      },
      "execution_count": null,
      "outputs": []
    },
    {
      "cell_type": "code",
      "source": [
        "#finds means of v_rest arrays, preforms ttest, makes histogram with 2 sublplots, labels axes\n",
        "v_rest1.mean()\n",
        "v_rest2.mean()\n",
        "\n",
        "stats.ttest_ind(v_rest1,v_rest2)\n",
        "\n",
        "fig, ax = plt.subplots(1,1)\n",
        "\n",
        "ax.hist(v_rest1)\n",
        "ax.hist(v_rest2)\n",
        "plt.ylabel(\"Frequency\") \n",
        "plt.xlabel(\"Membrane Potential (mv)\") "
      ],
      "metadata": {
        "id": "le9jVwGQjp-h",
        "outputId": "c01fa4b1-40f0-4216-9aa9-4e5793ae0e16",
        "colab": {
          "base_uri": "https://localhost:8080/",
          "height": 296
        }
      },
      "execution_count": null,
      "outputs": [
        {
          "output_type": "execute_result",
          "data": {
            "text/plain": [
              "Text(0.5, 0, 'Membrane Potential (mv)')"
            ]
          },
          "metadata": {},
          "execution_count": 61
        },
        {
          "output_type": "display_data",
          "data": {
            "text/plain": [
              "<Figure size 432x288 with 1 Axes>"
            ],
            "image/png": "[encoded data removed]"
          },
          "metadata": {
            "needs_background": "light"
          }
        }
      ]
    },
    {
      "cell_type": "code",
      "source": [
        "#defines vrestHist() function\n",
        "def vrestHist():\n",
        "  v_rest1.mean()\n",
        "  v_rest2.mean()\n",
        "\n",
        "  stats.ttest_ind(v_rest1,v_rest2)\n",
        "\n",
        "  fig, ax = plt.subplots(1,1)\n",
        "\n",
        "  ax.hist(v_rest1)\n",
        "  ax.hist(v_rest2)\n",
        "  plt.ylabel(\"Frequency\") \n",
        "  plt.xlabel(\"Membrane Potential (mv)\") \n",
        "\n"
      ],
      "metadata": {
        "id": "NqY6eAGIS3eh"
      },
      "execution_count": null,
      "outputs": []
    },
    {
      "cell_type": "code",
      "source": [
        "#call function\n",
        "vrestHist()"
      ],
      "metadata": {
        "id": "LOmBkumXTia3",
        "outputId": "639649ee-900d-433b-9ac5-40350a8033d8",
        "colab": {
          "base_uri": "https://localhost:8080/",
          "height": 279
        }
      },
      "execution_count": null,
      "outputs": [
        {
          "output_type": "display_data",
          "data": {
            "text/plain": [
              "<Figure size 432x288 with 1 Axes>"
            ],
            "image/png": "[encoded data removed]"
          },
          "metadata": {
            "needs_background": "light"
          }
        }
      ]
    },
    {
      "cell_type": "code",
      "source": [
        "v_rest1[1]"
      ],
      "metadata": {
        "id": "WlMZevQeZEr6",
        "outputId": "95dab35a-e2c9-4063-80a2-ec40b27c8548",
        "colab": {
          "base_uri": "https://localhost:8080/"
        }
      },
      "execution_count": null,
      "outputs": [
        {
          "output_type": "execute_result",
          "data": {
            "text/plain": [
              "-75.53345698"
            ]
          },
          "metadata": {},
          "execution_count": 76
        }
      ]
    },
    {
      "cell_type": "code",
      "source": [
        "#create loop to plot scatter plot, v_rest1 x values, v_rest2 y values\n",
        "#Your loop should plot a red dot if both values in v_rest1 and v_rest2 are greater than -60, \n",
        "#a green dot if values in v_rest1 are greater than -60, but values in v_rest2 are less than -60, and a blue dot if both values in v_rest1 and v_rest2 are less than -60. \n",
        "for i in range(0,np.size(v_rest1)-1):\n",
        "\n",
        "  if v_rest1[i]>-60:\n",
        "    \n",
        "    if v_rest2[i]>-60:\n",
        "      plt.scatter(v_rest1[i],v_rest2[i],color=\"red\")\n",
        "   \n",
        "    else:\n",
        "      plt.scatter(v_rest1[i],v_rest2[i],color=\"green\")\n",
        "     \n",
        "\n",
        "  else:\n",
        "    plt.scatter(v_rest1[i],v_rest2[i],color=\"blue\")\n",
        "\n",
        "plt.ylabel(\"v_rest2\")\n",
        "plt.xlabel(\"v_rest1\")\n"
      ],
      "metadata": {
        "id": "O99IRFuQTs5P",
        "outputId": "dd0e71e2-eb61-4e43-9ff9-0a04ba4aac5b",
        "colab": {
          "base_uri": "https://localhost:8080/",
          "height": 297
        }
      },
      "execution_count": null,
      "outputs": [
        {
          "output_type": "execute_result",
          "data": {
            "text/plain": [
              "Text(0.5, 0, 'v_rest1')"
            ]
          },
          "metadata": {},
          "execution_count": 118
        },
        {
          "output_type": "display_data",
          "data": {
            "text/plain": [
              "<Figure size 432x288 with 1 Axes>"
            ],
            "image/png": "[encoded data removed]"
          },
          "metadata": {
            "needs_background": "light"
          }
        }
      ]
    },
    {
      "cell_type": "code",
      "source": [
        "#defines vrestScatter function\n",
        "def vrestScatter():\n",
        "  for i in range(0,np.size(v_rest1)-1):\n",
        "\n",
        "    if v_rest1[i]>-60:\n",
        "    \n",
        "      if v_rest2[i]>-60:\n",
        "        plt.scatter(v_rest1[i],v_rest2[i],color=\"red\")\n",
        "   \n",
        "      else:\n",
        "        plt.scatter(v_rest1[i],v_rest2[i],color=\"green\")\n",
        "     \n",
        "\n",
        "    else:\n",
        "      plt.scatter(v_rest1[i],v_rest2[i],color=\"blue\")\n",
        "\n",
        "  plt.ylabel(\"v_rest2\")\n",
        "  plt.xlabel(\"v_rest1\")\n",
        "\n"
      ],
      "metadata": {
        "id": "BSb4LYE8fub1"
      },
      "execution_count": null,
      "outputs": []
    },
    {
      "cell_type": "code",
      "source": [
        "#calls vrestScatter()\n",
        "vrestScatter()"
      ],
      "metadata": {
        "id": "Rki0EG27f9Ny",
        "outputId": "53d8f85c-f174-4403-aeba-6b46cd18f52e",
        "colab": {
          "base_uri": "https://localhost:8080/",
          "height": 280
        }
      },
      "execution_count": null,
      "outputs": [
        {
          "output_type": "display_data",
          "data": {
            "text/plain": [
              "<Figure size 432x288 with 1 Axes>"
            ],
            "image/png": "[encoded data removed]"
          },
          "metadata": {
            "needs_background": "light"
          }
        }
      ]
    }
  ]
}