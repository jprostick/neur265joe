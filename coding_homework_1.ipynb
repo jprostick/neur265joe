{
  "nbformat": 4,
  "nbformat_minor": 0,
  "metadata": {
    "colab": {
      "provenance": [],
      "include_colab_link": true
    },
    "kernelspec": {
      "name": "python3",
      "display_name": "Python 3"
    },
    "language_info": {
      "name": "python"
    }
  },
  "cells": [
    {
      "cell_type": "markdown",
      "metadata": {
        "id": "view-in-github",
        "colab_type": "text"
      },
      "source": [
        "<a href=\"https://colab.research.google.com/github/jprostick/neur265joe/blob/main/coding_homework_1.ipynb\" target=\"_parent\"><img src=\"https://colab.research.google.com/assets/colab-badge.svg\" alt=\"Open In Colab\"/></a>"
      ]
    },
    {
      "cell_type": "markdown",
      "source": [
        "# Coding Homework #1\n",
        "\n",
        "**Instructions** (Note: it is very important you follow these instructions in order!)\n",
        "\n",
        "1. Run the first *Code Cell* below.\n",
        "\n",
        "2. Make a *Markdown Cell* that contains the following information:\n",
        "  * Your name (small header)\n",
        "  * The name of this class (italicized)\n",
        "  * The date (bolded)\n",
        "\n",
        "3. **Important!**: For each *Code Cell* that you create, make at least one line of code with a `#` in front of it that describes what your code does.\n",
        "\n",
        "4. Make a *Code Cell* that turns `v_rest1.csv` into a `Pandas DataFrame` called `pandas_data1`, and `v_rest2.csv` into a `Pandas DataFrame` called `pandas_data2`. Recall that we covered how to import `.csv` files as `Pandas DataFrames` in our in-class coding activity on January 30th. \n",
        "\n",
        "5. Make a *Code Cell* that converts `pandas_data1` into a `list` variable called `data1`, and converts `pandas_data2` into a `list` variable called `data2`. The following syntax is an example of how to do this:\n",
        "\n",
        "\n",
        "```\n",
        "data1 = pandas_data1.values.tolist()\n",
        "```\n",
        "\n",
        "6. When you convert a `Pandas DataFrame` into a `list`, it brackets each individual element - we don't want that! To get around this issue, make a *Code Cell* that flattens `data1` and `data2` using the `numpy.squeeze()` function. Your first *Code Cell* imported the `NumPy` module as `np`, so we can use the following code to flatten `data1`:\n",
        "\n",
        "\n",
        "```\n",
        "data1 = np.squeeze(data1)\n",
        "```\n",
        "&nbsp;&nbsp;&nbsp;&nbsp;&nbsp;&nbsp;&nbsp;&nbsp;&nbsp;&nbsp;Repeat this for `data2`.\n",
        "\n",
        "7. Make a *Code Cell* that prints the length of `data1`.\n",
        "\n",
        "8. Make a *Code Cell* that prints the 5th, 6th, 7th, and 8th elements of `data2`.\n",
        "\n",
        "9. Make a *Code Cell* that prints the second-to-last and last elements of `data1` (use negative indexing).\n",
        "\n",
        "10. Make a *Code Cell* that prints the `type` of `data2` by using the `type` function.\n",
        "\n",
        "11. The first *Code Cell* you ran imports a module called `matplotlib`. In a new *Code Cell*, use `matplotlib` to make a histogram of `data1`. You can use the syntax `plt.hist()` to do this (remember that the variable you are applying the function to goes inside of the parentheses). \n",
        "\n",
        "12. In a new *Code Cell*, re-make your histogram and use the `plt.xlabel()` and `plt.ylabel()` functions to label your axes.\n",
        "\n",
        "13. In a new *Code Cell*, follow the instructions in steps 11 and 12 to make another histogram with axis labels for `data2`. \n",
        "\n",
        "14. In a new *Markdown Cell*, write a brief description of any differences that you observe between your two histograms. Does one group of cells seem to have a higher/lower resting membrane potential than the other group of cells?\n",
        "\n",
        "15. In a new *Code Cell*, create a new variable called `data3`. Let `data3` be a list containing both `data1` and `data2`. \n",
        "\n",
        "16. Make a *Code Cell* that prints the last element of `data2`. You must index `data3` to do this (hint: we covered this in our in-class coding activity on February 1st).\n",
        "\n",
        "17. Save a copy of this notebook to your GitHub repo with the title \"coding_homework_1.pynb\". "
      ],
      "metadata": {
        "id": "R8xCV2iP1KZ_"
      }
    },
    {
      "cell_type": "markdown",
      "source": [],
      "metadata": {
        "id": "5MAUvMsW_vZ-"
      }
    },
    {
      "cell_type": "markdown",
      "source": [],
      "metadata": {
        "id": "hq1RF0_d_xqu"
      }
    },
    {
      "cell_type": "markdown",
      "source": [
        "###Joseph Prostick\n",
        "#*Intro to Neural Data Analysis*\n",
        "#**February 8 2023**"
      ],
      "metadata": {
        "id": "dYAnJj6b_zlx"
      }
    },
    {
      "cell_type": "code",
      "source": [
        "# Import matplotlib, pandas, and numpy\n",
        "\n",
        "from matplotlib import pyplot as plt\n",
        "\n",
        "import pandas as pd\n",
        "\n",
        "import numpy as np"
      ],
      "metadata": {
        "id": "48IPWJIt59-Y"
      },
      "execution_count": 1,
      "outputs": []
    },
    {
      "cell_type": "code",
      "source": [
        "# Turn data into pandas dataframe\n",
        "\n",
        "url1 = 'https://raw.githubusercontent.com/jprostick/neur265joe/main/vrest_1.csv'\n",
        "pandas_data1 = pd.read_csv(url1)\n",
        "url2 = 'https://raw.githubusercontent.com/jprostick/neur265joe/main/vrest_2.csv'\n",
        "pandas_data2 = pd.read_csv(url2)"
      ],
      "metadata": {
        "id": "KDDoaCcuMa12"
      },
      "execution_count": 11,
      "outputs": []
    },
    {
      "cell_type": "code",
      "source": [
        "# Created 2 lists, one of each data set values\n",
        "\n",
        "data1 = pandas_data1.values.tolist()\n",
        "data2 = pandas_data2.values.tolist()\n",
        "\n",
        "# \"flatten\" list\n",
        "data1 = np.squeeze(data1)\n",
        "data2 = np.squeeze(data2)"
      ],
      "metadata": {
        "id": "qV2sG5o-CaaB"
      },
      "execution_count": 13,
      "outputs": []
    },
    {
      "cell_type": "code",
      "source": [
        "# Length of data1\n",
        "np.size(data1)"
      ],
      "metadata": {
        "id": "8GTQjI_rFnPJ",
        "outputId": "7758cfda-7816-44e4-dcdb-23704c25d643",
        "colab": {
          "base_uri": "https://localhost:8080/"
        }
      },
      "execution_count": 16,
      "outputs": [
        {
          "output_type": "execute_result",
          "data": {
            "text/plain": [
              "12"
            ]
          },
          "metadata": {},
          "execution_count": 16
        }
      ]
    },
    {
      "cell_type": "code",
      "source": [
        "# print data2 values 5 through 8\n",
        "\n",
        "print(data2[4])\n",
        "print(data2[5])\n",
        "print(data2[6])\n",
        "print(data2[7])"
      ],
      "metadata": {
        "id": "7AyOUxj4F_BM",
        "outputId": "afcebe68-8f1c-4b05-cbf3-5d43cc114275",
        "colab": {
          "base_uri": "https://localhost:8080/"
        }
      },
      "execution_count": 29,
      "outputs": [
        {
          "output_type": "stream",
          "name": "stdout",
          "text": [
            "-72.02364696\n",
            "-66.33348083\n",
            "-68.72990036\n",
            "-73.90016174\n"
          ]
        }
      ]
    },
    {
      "cell_type": "code",
      "source": [
        "# printing second to last and last values in data1\n",
        "\n",
        "print(data1[-2])\n",
        "print(data1[-1])"
      ],
      "metadata": {
        "id": "vZJMk2eaHC3f",
        "outputId": "674a6826-ec73-4ab4-92e7-75ab35640183",
        "colab": {
          "base_uri": "https://localhost:8080/"
        }
      },
      "execution_count": 30,
      "outputs": [
        {
          "output_type": "stream",
          "name": "stdout",
          "text": [
            "-73.36501503\n",
            "-70.57924589\n"
          ]
        }
      ]
    },
    {
      "cell_type": "code",
      "source": [
        "# data2 data type\n",
        "type(data2)"
      ],
      "metadata": {
        "id": "jQPCmQKxHWVA",
        "outputId": "650e0a63-c3a8-4c94-c19b-839bb84b7058",
        "colab": {
          "base_uri": "https://localhost:8080/"
        }
      },
      "execution_count": 34,
      "outputs": [
        {
          "output_type": "execute_result",
          "data": {
            "text/plain": [
              "numpy.ndarray"
            ]
          },
          "metadata": {},
          "execution_count": 34
        }
      ]
    },
    {
      "cell_type": "code",
      "source": [
        "# data1 histogram\n",
        "plt.hist(data1)\n"
      ],
      "metadata": {
        "id": "nAJUDwSSHrNH",
        "outputId": "269a58af-2e4c-4d49-b1d3-428183347d22",
        "colab": {
          "base_uri": "https://localhost:8080/",
          "height": 354
        }
      },
      "execution_count": 36,
      "outputs": [
        {
          "output_type": "execute_result",
          "data": {
            "text/plain": [
              "(array([1., 1., 2., 1., 0., 3., 2., 1., 0., 1.]),\n",
              " array([-79.56984602, -78.0182    , -76.46655398, -74.91490797,\n",
              "        -73.36326195, -71.81161593, -70.25996991, -68.70832389,\n",
              "        -67.15667788, -65.60503186, -64.05338584]),\n",
              " <a list of 10 Patch objects>)"
            ]
          },
          "metadata": {},
          "execution_count": 36
        },
        {
          "output_type": "display_data",
          "data": {
            "text/plain": [
              "<Figure size 432x288 with 1 Axes>"
            ],
            "image/png": "[encoded data removed]"
          },
          "metadata": {
            "needs_background": "light"
          }
        }
      ]
    },
    {
      "cell_type": "code",
      "source": [
        "# recreate data1 histogram with axes labels\n",
        "\n",
        "plt.hist(data1)\n",
        "plt.xlabel(\"Membrane Potential (mv)\")\n",
        "plt.ylabel(\"Frequency\")"
      ],
      "metadata": {
        "id": "uAEwojT8KTr9",
        "outputId": "f9dc38c5-f74f-4e83-9397-0f3d01f77ed8",
        "colab": {
          "base_uri": "https://localhost:8080/",
          "height": 297
        }
      },
      "execution_count": 38,
      "outputs": [
        {
          "output_type": "execute_result",
          "data": {
            "text/plain": [
              "Text(0, 0.5, 'Frequency')"
            ]
          },
          "metadata": {},
          "execution_count": 38
        },
        {
          "output_type": "display_data",
          "data": {
            "text/plain": [
              "<Figure size 432x288 with 1 Axes>"
            ],
            "image/png": "[encoded data removed]"
          },
          "metadata": {
            "needs_background": "light"
          }
        }
      ]
    },
    {
      "cell_type": "code",
      "source": [
        "# create data2 histogram with axes labels\n",
        "\n",
        "plt.hist(data2)\n",
        "plt.xlabel(\"Membrane Potential (mv)\")\n",
        "plt.ylabel(\"Frequency\")"
      ],
      "metadata": {
        "id": "kVTemNhMLNyv",
        "outputId": "6e1ca107-c138-4ba2-bd37-351ba03ea805",
        "colab": {
          "base_uri": "https://localhost:8080/",
          "height": 297
        }
      },
      "execution_count": 40,
      "outputs": [
        {
          "output_type": "execute_result",
          "data": {
            "text/plain": [
              "Text(0, 0.5, 'Frequency')"
            ]
          },
          "metadata": {},
          "execution_count": 40
        },
        {
          "output_type": "display_data",
          "data": {
            "text/plain": [
              "<Figure size 432x288 with 1 Axes>"
            ],
            "image/png": "[encoded data removed]"
          },
          "metadata": {
            "needs_background": "light"
          }
        }
      ]
    },
    {
      "cell_type": "code",
      "source": [
        "# Data set 1 has the lowest membrane potentials and has a greater variability of data. \n",
        "# Data set 2 has generally higher membrane potentials, and the data is less varied."
      ],
      "metadata": {
        "id": "8o7geIO2LWnv"
      },
      "execution_count": 41,
      "outputs": []
    },
    {
      "cell_type": "code",
      "source": [
        "# Creating matrix out of data1 and data2\n",
        "\n",
        "data3 = np.matrix([data1,data2])"
      ],
      "metadata": {
        "id": "PFi4Zw9gMLZk"
      },
      "execution_count": 46,
      "outputs": []
    },
    {
      "cell_type": "code",
      "source": [
        "#Printing last value of data2\n",
        "\n",
        "data3[1,-1]"
      ],
      "metadata": {
        "id": "OJZ4kMpEM5RS",
        "outputId": "a53d0eb3-2ec7-4f56-8c60-384c3c9c206e",
        "colab": {
          "base_uri": "https://localhost:8080/"
        }
      },
      "execution_count": 49,
      "outputs": [
        {
          "output_type": "execute_result",
          "data": {
            "text/plain": [
              "-73.30217912"
            ]
          },
          "metadata": {},
          "execution_count": 49
        }
      ]
    }
  ]
}